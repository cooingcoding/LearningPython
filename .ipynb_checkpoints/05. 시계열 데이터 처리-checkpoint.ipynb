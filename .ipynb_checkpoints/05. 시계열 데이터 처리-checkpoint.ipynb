{
 "cells": [
  {
   "cell_type": "markdown",
   "id": "f3291977",
   "metadata": {},
   "source": [
    "# DatetimeIndex \n",
    "- Pd.to_datetime() : 문자열을 날짜 /시간의 자료형인 datetime자료형으로 바꿔주는 함수\n",
    "- pd.date_range() : 시작일과 종료일 또는 시작일과 기간을 입력하면범위 내의 인덱스를 자동으로 생성해주는 함수\n",
    "- 시계열 자료 : 인덱스에 날짜나 시간이 오는 데이터\n",
    "- pandas에서 시계열 자료를 생성하려면, 인덱스를 DatetimeIndex의 자료형으로 만들어야 한다."
   ]
  },
  {
   "cell_type": "code",
   "execution_count": 3,
   "id": "5145191f",
   "metadata": {},
   "outputs": [],
   "source": [
    "import numpy as np\n",
    "import pandas as pd"
   ]
  },
  {
   "cell_type": "code",
   "execution_count": 5,
   "id": "14450c07",
   "metadata": {},
   "outputs": [
    {
     "name": "stdout",
     "output_type": "stream",
     "text": [
      "<class 'list'>\n"
     ]
    }
   ],
   "source": [
    "date_str = ['2018, 1, 1', '2018, 1, 4', '2018, 1, 5', '2018, 1, 6']\n",
    "print(type(date_str))"
   ]
  },
  {
   "cell_type": "code",
   "execution_count": 6,
   "id": "54481896",
   "metadata": {},
   "outputs": [
    {
     "data": {
      "text/plain": [
       "DatetimeIndex(['2018-01-01', '2018-01-04', '2018-01-05', '2018-01-06'], dtype='datetime64[ns]', freq=None)"
      ]
     },
     "execution_count": 6,
     "metadata": {},
     "output_type": "execute_result"
    }
   ],
   "source": [
    "idx = pd.to_datetime(date_str)\n",
    "idx"
   ]
  },
  {
   "cell_type": "code",
   "execution_count": 7,
   "id": "a2b433e4",
   "metadata": {},
   "outputs": [
    {
     "data": {
      "text/plain": [
       "2018-01-01   -0.122862\n",
       "2018-01-04    0.101070\n",
       "2018-01-05   -0.170756\n",
       "2018-01-06   -1.096768\n",
       "dtype: float64"
      ]
     },
     "execution_count": 7,
     "metadata": {},
     "output_type": "execute_result"
    }
   ],
   "source": [
    "#Series\n",
    "s=pd.Series(np.random.randn(4), index=idx)\n",
    "s"
   ]
  },
  {
   "cell_type": "code",
   "execution_count": 8,
   "id": "5b69e58e",
   "metadata": {},
   "outputs": [
    {
     "data": {
      "text/plain": [
       "DatetimeIndex(['2022-10-01', '2022-10-02', '2022-10-03', '2022-10-04',\n",
       "               '2022-10-05', '2022-10-06', '2022-10-07', '2022-10-08',\n",
       "               '2022-10-09', '2022-10-10', '2022-10-11', '2022-10-12',\n",
       "               '2022-10-13', '2022-10-14', '2022-10-15', '2022-10-16',\n",
       "               '2022-10-17', '2022-10-18', '2022-10-19', '2022-10-20',\n",
       "               '2022-10-21', '2022-10-22', '2022-10-23', '2022-10-24',\n",
       "               '2022-10-25', '2022-10-26', '2022-10-27', '2022-10-28',\n",
       "               '2022-10-29', '2022-10-30'],\n",
       "              dtype='datetime64[ns]', freq='D')"
      ]
     },
     "execution_count": 8,
     "metadata": {},
     "output_type": "execute_result"
    }
   ],
   "source": [
    "pd.date_range('2022-10-1', periods = 30)"
   ]
  },
  {
   "cell_type": "markdown",
   "id": "4e9e1d13",
   "metadata": {},
   "source": [
    "#### freq 매개변수로 특정한 날짜만 생성되도록 설정 할 수 있다.\n",
    "- s: second, 초\n",
    "- T: minute, 분\n",
    "- H: hour, 시간\n",
    "- D: day, 일\n",
    "- B: 평일\n",
    "- W: 주(일요일)\n",
    "- W-MON : 주(월요일)\n",
    "- M : 각 달의 마지막 날\n",
    "- Ms : 각달의 첫 날\n",
    "- BM: 주말이 아닌 평일 중에서 각 달의 마지막 날\n",
    "- BMS: 주말이 아닌 평일 중에서 각 달의 첫날\n",
    "- WOM-2THU: 각 달의 두번째 목요일\n",
    "- Q-JAN: 각 분기의 첫달의 마지막 날\n",
    "- Q-DEC: 각 분기의 마지막 달의 마지막 날\n",
    "https://pandas.pydata.org/pandas-docs/stable/user_guide/timeseries.html#dateoffset-objects"
   ]
  },
  {
   "cell_type": "code",
   "execution_count": 10,
   "id": "42d6e498",
   "metadata": {},
   "outputs": [
    {
     "data": {
      "text/plain": [
       "DatetimeIndex(['2022-10-01', '2022-10-02', '2022-10-03', '2022-10-04',\n",
       "               '2022-10-05', '2022-10-06', '2022-10-07', '2022-10-08',\n",
       "               '2022-10-09', '2022-10-10', '2022-10-11', '2022-10-12',\n",
       "               '2022-10-13', '2022-10-14', '2022-10-15', '2022-10-16',\n",
       "               '2022-10-17', '2022-10-18', '2022-10-19', '2022-10-20',\n",
       "               '2022-10-21', '2022-10-22', '2022-10-23', '2022-10-24',\n",
       "               '2022-10-25', '2022-10-26', '2022-10-27', '2022-10-28',\n",
       "               '2022-10-29', '2022-10-30', '2022-10-31'],\n",
       "              dtype='datetime64[ns]', freq='D')"
      ]
     },
     "execution_count": 10,
     "metadata": {},
     "output_type": "execute_result"
    }
   ],
   "source": [
    "c"
   ]
  },
  {
   "cell_type": "code",
   "execution_count": 11,
   "id": "345bb09d",
   "metadata": {},
   "outputs": [
    {
     "data": {
      "text/plain": [
       "DatetimeIndex(['2022-10-02', '2022-10-09', '2022-10-16', '2022-10-23',\n",
       "               '2022-10-30', '2022-11-06', '2022-11-13', '2022-11-20',\n",
       "               '2022-11-27', '2022-12-04', '2022-12-11', '2022-12-18',\n",
       "               '2022-12-25'],\n",
       "              dtype='datetime64[ns]', freq='W-SUN')"
      ]
     },
     "execution_count": 11,
     "metadata": {},
     "output_type": "execute_result"
    }
   ],
   "source": [
    "pd.date_range(\"2022-10-1\", \"2022-12-31\", freq=\"W\")"
   ]
  },
  {
   "cell_type": "code",
   "execution_count": 12,
   "id": "bc419480",
   "metadata": {},
   "outputs": [
    {
     "data": {
      "text/plain": [
       "DatetimeIndex(['2022-10-03', '2022-10-10', '2022-10-17', '2022-10-24',\n",
       "               '2022-10-31', '2022-11-07', '2022-11-14', '2022-11-21',\n",
       "               '2022-11-28', '2022-12-05', '2022-12-12', '2022-12-19',\n",
       "               '2022-12-26'],\n",
       "              dtype='datetime64[ns]', freq='W-MON')"
      ]
     },
     "execution_count": 12,
     "metadata": {},
     "output_type": "execute_result"
    }
   ],
   "source": [
    "pd.date_range(\"2022-10-1\", \"2022-12-31\", freq=\"W-MON\")"
   ]
  },
  {
   "cell_type": "markdown",
   "id": "b439328c",
   "metadata": {},
   "source": [
    "### shift\n",
    "- 기준날짜는 그대로 두고 데이터만 한칸 씩 옮겨라\n",
    "- 시계열 데이터의 인덱스는 "
   ]
  },
  {
   "cell_type": "code",
   "execution_count": 13,
   "id": "5fb83271",
   "metadata": {},
   "outputs": [
    {
     "data": {
      "text/plain": [
       "2018-01-31   -0.032911\n",
       "2018-02-28    0.430023\n",
       "2018-03-31   -1.210115\n",
       "2018-04-30   -0.548331\n",
       "Freq: M, dtype: float64"
      ]
     },
     "execution_count": 13,
     "metadata": {},
     "output_type": "execute_result"
    }
   ],
   "source": [
    "\n",
    "ts = pd.Series(np.random.randn(4), index=pd.date_range(\n",
    "    \"2018-1-1\", periods=4, freq=\"M\"))\n",
    "ts"
   ]
  },
  {
   "cell_type": "code",
   "execution_count": 14,
   "id": "38bc867e",
   "metadata": {},
   "outputs": [
    {
     "data": {
      "text/plain": [
       "2018-01-31         NaN\n",
       "2018-02-28   -0.032911\n",
       "2018-03-31    0.430023\n",
       "2018-04-30   -1.210115\n",
       "Freq: M, dtype: float64"
      ]
     },
     "execution_count": 14,
     "metadata": {},
     "output_type": "execute_result"
    }
   ],
   "source": [
    "ts.shift(1)"
   ]
  },
  {
   "cell_type": "code",
   "execution_count": 15,
   "id": "32c11a66",
   "metadata": {},
   "outputs": [
    {
     "data": {
      "text/plain": [
       "2018-01-31    0.430023\n",
       "2018-02-28   -1.210115\n",
       "2018-03-31   -0.548331\n",
       "2018-04-30         NaN\n",
       "Freq: M, dtype: float64"
      ]
     },
     "execution_count": 15,
     "metadata": {},
     "output_type": "execute_result"
    }
   ],
   "source": [
    "ts.shift(-1)"
   ]
  },
  {
   "cell_type": "code",
   "execution_count": 16,
   "id": "27da2c97",
   "metadata": {},
   "outputs": [
    {
     "data": {
      "text/plain": [
       "2018-02-28   -0.032911\n",
       "2018-03-31    0.430023\n",
       "2018-04-30   -1.210115\n",
       "2018-05-31   -0.548331\n",
       "Freq: M, dtype: float64"
      ]
     },
     "execution_count": 16,
     "metadata": {},
     "output_type": "execute_result"
    }
   ],
   "source": [
    "ts.shift(1, freq=\"M\")"
   ]
  },
  {
   "cell_type": "code",
   "execution_count": 17,
   "id": "980f349c",
   "metadata": {},
   "outputs": [
    {
     "data": {
      "text/plain": [
       "2018-02-04   -0.032911\n",
       "2018-03-04    0.430023\n",
       "2018-04-01   -1.210115\n",
       "2018-05-06   -0.548331\n",
       "dtype: float64"
      ]
     },
     "execution_count": 17,
     "metadata": {},
     "output_type": "execute_result"
    }
   ],
   "source": [
    "ts.shift(1, freq=\"W\")"
   ]
  },
  {
   "cell_type": "markdown",
   "id": "79aaba6a",
   "metadata": {},
   "source": [
    "### resample : 날짜나 시간 간격을 재조정하는 기능\n",
    "- 업샘플링 데이터양을 늘리는 것 간격은 줄어듦\n",
    "- 다운 샘플링 데이터 양을 줄이는 것 간격을 늘어남"
   ]
  },
  {
   "cell_type": "code",
   "execution_count": 19,
   "id": "1a453da0",
   "metadata": {},
   "outputs": [
    {
     "data": {
      "text/plain": [
       "2018-01-01    2.244655\n",
       "2018-01-02   -1.383355\n",
       "2018-01-03    0.116688\n",
       "2018-01-04   -0.160065\n",
       "2018-01-05    0.260803\n",
       "2018-01-06   -0.737282\n",
       "2018-01-07   -1.253275\n",
       "2018-01-08   -0.101540\n",
       "2018-01-09   -1.588020\n",
       "2018-01-10    1.968220\n",
       "2018-01-11    0.364751\n",
       "2018-01-12    0.684957\n",
       "2018-01-13   -0.287019\n",
       "2018-01-14    0.691430\n",
       "2018-01-15    0.982143\n",
       "2018-01-16   -0.550764\n",
       "2018-01-17    1.481673\n",
       "2018-01-18   -0.287712\n",
       "2018-01-19   -1.074700\n",
       "2018-01-20    0.393225\n",
       "Freq: D, dtype: float64"
      ]
     },
     "execution_count": 19,
     "metadata": {},
     "output_type": "execute_result"
    }
   ],
   "source": [
    "ts = pd.Series(np.random.randn(100), index=pd.date_range(\n",
    "    \"2018-1-1\", periods=100, freq=\"D\"))\n",
    "ts.head(20)"
   ]
  },
  {
   "cell_type": "code",
   "execution_count": 20,
   "id": "3695be75",
   "metadata": {},
   "outputs": [
    {
     "data": {
      "text/plain": [
       "2018-01-07   -0.130262\n",
       "2018-01-14    0.247540\n",
       "2018-01-21    0.008109\n",
       "2018-01-28   -0.661611\n",
       "2018-02-04   -0.311911\n",
       "2018-02-11    0.070470\n",
       "2018-02-18    0.111913\n",
       "2018-02-25    0.085261\n",
       "2018-03-04   -0.131427\n",
       "2018-03-11   -0.567752\n",
       "2018-03-18    0.127373\n",
       "2018-03-25    0.208906\n",
       "2018-04-01   -0.304315\n",
       "2018-04-08   -0.161778\n",
       "2018-04-15   -0.659126\n",
       "Freq: W-SUN, dtype: float64"
      ]
     },
     "execution_count": 20,
     "metadata": {},
     "output_type": "execute_result"
    }
   ],
   "source": [
    "#다운 샘플링의 경우에는 원래의 데이터가 그룹화\n",
    "\n",
    "ts.resample('W').mean()"
   ]
  },
  {
   "cell_type": "code",
   "execution_count": 21,
   "id": "988d3200",
   "metadata": {},
   "outputs": [
    {
     "data": {
      "text/plain": [
       "2018-01-31    2.244655\n",
       "2018-02-28   -2.702029\n",
       "2018-03-31    0.317795\n",
       "2018-04-30   -0.223132\n",
       "Freq: M, dtype: float64"
      ]
     },
     "execution_count": 21,
     "metadata": {},
     "output_type": "execute_result"
    }
   ],
   "source": [
    "ts.resample('M').first()"
   ]
  },
  {
   "cell_type": "code",
   "execution_count": null,
   "id": "4099aa43",
   "metadata": {},
   "outputs": [],
   "source": []
  }
 ],
 "metadata": {
  "kernelspec": {
   "display_name": "Python 3 (ipykernel)",
   "language": "python",
   "name": "python3"
  },
  "language_info": {
   "codemirror_mode": {
    "name": "ipython",
    "version": 3
   },
   "file_extension": ".py",
   "mimetype": "text/x-python",
   "name": "python",
   "nbconvert_exporter": "python",
   "pygments_lexer": "ipython3",
   "version": "3.9.7"
  },
  "toc": {
   "base_numbering": 1,
   "nav_menu": {},
   "number_sections": true,
   "sideBar": true,
   "skip_h1_title": false,
   "title_cell": "Table of Contents",
   "title_sidebar": "Contents",
   "toc_cell": false,
   "toc_position": {},
   "toc_section_display": true,
   "toc_window_display": false
  }
 },
 "nbformat": 4,
 "nbformat_minor": 5
}
