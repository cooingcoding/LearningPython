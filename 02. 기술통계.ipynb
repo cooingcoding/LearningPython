{
 "cells": [
  {
   "cell_type": "markdown",
   "id": "2d55688c",
   "metadata": {},
   "source": [
    "### 데이터 개수 : (len,count)"
   ]
  },
  {
   "cell_type": "code",
   "execution_count": 2,
   "id": "a495ceaf",
   "metadata": {},
   "outputs": [],
   "source": [
    "import numpy as np"
   ]
  },
  {
   "cell_type": "code",
   "execution_count": 3,
   "id": "690d8332",
   "metadata": {},
   "outputs": [],
   "source": [
    "x = np.array([18, 5, 10, 23, 19, -8, 10, 0, 0, 5, 2, 15, 8,\n",
    "              2, 5, 4, 15, -1, 4, -7, -24, 7,  9, -6, 23, -13])"
   ]
  },
  {
   "cell_type": "code",
   "execution_count": 4,
   "id": "d01334a6",
   "metadata": {},
   "outputs": [
    {
     "data": {
      "text/plain": [
       "26"
      ]
     },
     "execution_count": 4,
     "metadata": {},
     "output_type": "execute_result"
    }
   ],
   "source": [
    "len(x)"
   ]
  },
  {
   "cell_type": "markdown",
   "id": "5575f9d2",
   "metadata": {},
   "source": [
    "#### 평균(mean, average)"
   ]
  },
  {
   "cell_type": "code",
   "execution_count": 5,
   "id": "682c0a87",
   "metadata": {},
   "outputs": [
    {
     "data": {
      "text/plain": [
       "4.8076923076923075"
      ]
     },
     "execution_count": 5,
     "metadata": {},
     "output_type": "execute_result"
    }
   ],
   "source": [
    "np.mean(x)"
   ]
  },
  {
   "cell_type": "markdown",
   "id": "e8fdf294",
   "metadata": {},
   "source": [
    "#### 분산var, (variance)\n",
    "- 표본 분산\n",
    "- 불편 분산(비편향 분산)\n",
    "\n"
   ]
  },
  {
   "cell_type": "code",
   "execution_count": 6,
   "id": "54a693a0",
   "metadata": {},
   "outputs": [
    {
     "data": {
      "text/plain": [
       "115.23224852071006"
      ]
     },
     "execution_count": 6,
     "metadata": {},
     "output_type": "execute_result"
    }
   ],
   "source": [
    "np.var(x) #표본 분산"
   ]
  },
  {
   "cell_type": "code",
   "execution_count": 8,
   "id": "86e613d7",
   "metadata": {},
   "outputs": [
    {
     "data": {
      "text/plain": [
       "119.84153846153846"
      ]
     },
     "execution_count": 8,
     "metadata": {},
     "output_type": "execute_result"
    }
   ],
   "source": [
    "np.var(x, ddof=1) #불편 분산(비편향 분산)"
   ]
  },
  {
   "cell_type": "markdown",
   "id": "bfe5472a",
   "metadata": {},
   "source": [
    "#### 표준편차(std, standard dication)"
   ]
  },
  {
   "cell_type": "code",
   "execution_count": 10,
   "id": "a342da32",
   "metadata": {},
   "outputs": [
    {
     "data": {
      "text/plain": [
       "10.734628476137871"
      ]
     },
     "execution_count": 10,
     "metadata": {},
     "output_type": "execute_result"
    }
   ],
   "source": [
    "# 분산의 양의 제곱근 값\n",
    "np.std(x)"
   ]
  },
  {
   "cell_type": "markdown",
   "id": "d8b5060d",
   "metadata": {},
   "source": [
    "#### 최댓값(max,maximum)"
   ]
  },
  {
   "cell_type": "code",
   "execution_count": 11,
   "id": "02929963",
   "metadata": {},
   "outputs": [
    {
     "data": {
      "text/plain": [
       "23"
      ]
     },
     "execution_count": 11,
     "metadata": {},
     "output_type": "execute_result"
    }
   ],
   "source": [
    "np.max(x)"
   ]
  },
  {
   "cell_type": "markdown",
   "id": "8aa085f2",
   "metadata": {},
   "source": [
    "#### 최솟값(min,minmum)"
   ]
  },
  {
   "cell_type": "code",
   "execution_count": 12,
   "id": "2e528deb",
   "metadata": {},
   "outputs": [
    {
     "data": {
      "text/plain": [
       "-24"
      ]
     },
     "execution_count": 12,
     "metadata": {},
     "output_type": "execute_result"
    }
   ],
   "source": [
    "np.min(x)"
   ]
  },
  {
   "cell_type": "markdown",
   "id": "4932e08c",
   "metadata": {},
   "source": [
    "#### 중앙값(median)"
   ]
  },
  {
   "cell_type": "code",
   "execution_count": 13,
   "id": "9776fee5",
   "metadata": {},
   "outputs": [
    {
     "data": {
      "text/plain": [
       "5.0"
      ]
     },
     "execution_count": 13,
     "metadata": {},
     "output_type": "execute_result"
    }
   ],
   "source": [
    "np.median(x)"
   ]
  },
  {
   "cell_type": "markdown",
   "id": "150f4fb6",
   "metadata": {},
   "source": [
    "#### 사분위수(percentile)\n",
    "- 백분위수(percentile) : 가장 작은 값0 가장 큰값 100"
   ]
  },
  {
   "cell_type": "code",
   "execution_count": 14,
   "id": "e5e34b62",
   "metadata": {},
   "outputs": [
    {
     "data": {
      "text/plain": [
       "-24.0"
      ]
     },
     "execution_count": 14,
     "metadata": {},
     "output_type": "execute_result"
    }
   ],
   "source": [
    "np.percentile(x, 0) #최소값을 가져와"
   ]
  },
  {
   "cell_type": "code",
   "execution_count": 15,
   "id": "9729cf04",
   "metadata": {},
   "outputs": [
    {
     "data": {
      "text/plain": [
       "0.0"
      ]
     },
     "execution_count": 15,
     "metadata": {},
     "output_type": "execute_result"
    }
   ],
   "source": [
    "np.percentile(x, 25) #1사분위 수(25%)들고와"
   ]
  },
  {
   "cell_type": "code",
   "execution_count": null,
   "id": "b971b68c",
   "metadata": {},
   "outputs": [],
   "source": []
  },
  {
   "cell_type": "code",
   "execution_count": null,
   "id": "f0a4124b",
   "metadata": {},
   "outputs": [],
   "source": []
  }
 ],
 "metadata": {
  "kernelspec": {
   "display_name": "Python 3 (ipykernel)",
   "language": "python",
   "name": "python3"
  },
  "language_info": {
   "codemirror_mode": {
    "name": "ipython",
    "version": 3
   },
   "file_extension": ".py",
   "mimetype": "text/x-python",
   "name": "python",
   "nbconvert_exporter": "python",
   "pygments_lexer": "ipython3",
   "version": "3.9.7"
  },
  "toc": {
   "base_numbering": 1,
   "nav_menu": {},
   "number_sections": true,
   "sideBar": true,
   "skip_h1_title": false,
   "title_cell": "Table of Contents",
   "title_sidebar": "Contents",
   "toc_cell": false,
   "toc_position": {},
   "toc_section_display": true,
   "toc_window_display": false
  }
 },
 "nbformat": 4,
 "nbformat_minor": 5
}
